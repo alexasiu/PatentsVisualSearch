{
 "cells": [
  {
   "cell_type": "markdown",
   "metadata": {},
   "source": [
    "# USPTO Patent Data Processing\n",
    "\n",
    "[patent_id, title, date, abstract, assignee_name, inventor_name, citations, keywords]\n",
    "\n",
    "https://docs.google.com/document/d/1xpC1TKHYXSZRjBNxHsy1LEjc3VYJYVsh4EQdVqIxKps/edit#"
   ]
  },
  {
   "cell_type": "code",
   "execution_count": 2,
   "metadata": {},
   "outputs": [],
   "source": [
    "import os\n",
    "import time\n",
    "from pprint import pprint\n",
    "from tqdm import tqdm_notebook"
   ]
  },
  {
   "cell_type": "code",
   "execution_count": 3,
   "metadata": {},
   "outputs": [],
   "source": [
    "def write_to_tsv(extracted, target):\n",
    "    target.write(extracted)\n",
    "    target.write('\\n')\n",
    "    \n",
    "def init_file(filename):\n",
    "    if os.path.exists(filename):\n",
    "        os.remove(filename)\n",
    "    open(filename, 'a').close()\n",
    "\n",
    "def check_file(filename):\n",
    "    with open(filename,'r') as tsv:\n",
    "        count = 0\n",
    "        for line in tsv:\n",
    "            count += 1\n",
    "            if count == 11: break\n",
    "            data = line.strip().split('\\t')\n",
    "            print(line)\n",
    "            \n",
    "def addDictToLine(line, dictionary):\n",
    "    dict_str = ', '.join(dictionary.get(data[0],set()))\n",
    "    if len(dict_str) == 0: dict_str = \"None\"\n",
    "    return line.replace(\"\\n\",\"\\t\") + dict_str.replace(\"\\n\",\"\")\n",
    "\n",
    "def addTextToLine(text, line):\n",
    "    return line.replace(\"\\n\", \"\") + '\\t' + text + '\\n'\n",
    "\n",
    "def addToDict(patent_id, element, dictionary):\n",
    "    dict_set = dictionary.get(patent_id, set())\n",
    "    dict_set.add(element)\n",
    "    dictionary[patent_id] = dict_set"
   ]
  },
  {
   "cell_type": "code",
   "execution_count": 5,
   "metadata": {},
   "outputs": [
    {
     "data": {
      "application/vnd.jupyter.widget-view+json": {
       "model_id": "781aec43d62d41529a9e53d2622413e5",
       "version_major": 2,
       "version_minor": 0
      },
      "text/plain": [
       "HBox(children=(IntProgress(value=0, max=6647700), HTML(value=u'')))"
      ]
     },
     "metadata": {},
     "output_type": "display_data"
    },
    {
     "name": "stdout",
     "output_type": "stream",
     "text": [
      "\n",
      "6025637\n"
     ]
    }
   ],
   "source": [
    "# def extract_patent_tsv(data):\n",
    "#     patent_id = data[0]\n",
    "#     date = data[4]\n",
    "#     abstract = data[5]\n",
    "#     title = data[6]\n",
    "    \n",
    "#     extracted = '\\t'.join([patent_id, title, date, abstract])\n",
    "#     return extracted\n",
    "\n",
    "# input_length = 6647700\n",
    "\n",
    "# init_file(\"patents.tsv\")\n",
    "\n",
    "# with open(\"patents.tsv\",'w') as after:\n",
    "#     with open(\"patent.tsv\",'r') as tsv:\n",
    "#         count = 0\n",
    "#         for line in tqdm_notebook(tsv, total=input_length):\n",
    "#             data = line.strip().split('\\t')\n",
    "#             patent_type = data[1]\n",
    "#             if patent_type == 'utility':\n",
    "#                 extracted = extract_patent_tsv(data)\n",
    "#                 write_to_tsv(extracted, after)\n",
    "#                 count += 1\n",
    "                \n",
    "# print(count)"
   ]
  },
  {
   "cell_type": "code",
   "execution_count": 9,
   "metadata": {
    "scrolled": true
   },
   "outputs": [
    {
     "data": {
      "application/vnd.jupyter.widget-view+json": {
       "model_id": "592d7f046a3c4f8984040001a90b30db",
       "version_major": 2,
       "version_minor": 0
      },
      "text/plain": [
       "HBox(children=(IntProgress(value=0, max=5903412), HTML(value=u'')))"
      ]
     },
     "metadata": {},
     "output_type": "display_data"
    },
    {
     "name": "stdout",
     "output_type": "stream",
     "text": [
      "\n",
      "6025637\n"
     ]
    }
   ],
   "source": [
    "# input_file = \"patents.tsv\"\n",
    "# output_file = \"patents_a.tsv\"\n",
    "# read_file = \"rawassignee.tsv\"\n",
    "\n",
    "# init_file(output_file)\n",
    "\n",
    "# input_length = 5903412\n",
    "\n",
    "# dictionary = dict()\n",
    "# with open(input_file,'r') as before:\n",
    "#     with open(output_file,'w') as after:\n",
    "#         with open(read_file,'r') as tsv:\n",
    "#             for line in tqdm_notebook(tsv, total=input_length):\n",
    "#                 data = line.strip().split('\\t')\n",
    "#                 patent_id = data[1]\n",
    "#                 assignee_first_name = data[5]\n",
    "#                 assignee_last_name = data[6]\n",
    "#                 assignee_person = data[5] + \" \" + data[6]\n",
    "#                 assignee_organization = data[7]\n",
    "#                 if len(assignee_person) > len(assignee_organization):\n",
    "#                     dictionary[patent_id] = assignee_person\n",
    "#                 else:\n",
    "#                     dictionary[patent_id] = assignee_organization\n",
    "#             count = 0\n",
    "#             for line in before:\n",
    "#                 data = line.strip().split('\\t')\n",
    "#                 newline = addDictToLine(line, dictionary)\n",
    "#                 write_to_tsv(newline, after)    \n",
    "#                 count += 1\n",
    "# print(count)"
   ]
  },
  {
   "cell_type": "code",
   "execution_count": 40,
   "metadata": {
    "scrolled": false
   },
   "outputs": [
    {
     "data": {
      "application/vnd.jupyter.widget-view+json": {
       "model_id": "c895a015ea0243169e705afdeeccccd3",
       "version_major": 2,
       "version_minor": 0
      },
      "text/plain": [
       "HBox(children=(IntProgress(value=0, max=15752111), HTML(value=u'')))"
      ]
     },
     "metadata": {},
     "output_type": "display_data"
    },
    {
     "name": "stdout",
     "output_type": "stream",
     "text": [
      "6646869\n",
      "6025637\n"
     ]
    }
   ],
   "source": [
    "# input_file = \"patents_a.tsv\"\n",
    "# output_file = \"patents_i.tsv\"\n",
    "# read_file = \"rawinventor.tsv\"\n",
    "\n",
    "# init_file(output_file)\n",
    "\n",
    "# input_length = 15752111\n",
    "\n",
    "# dictionary = dict()\n",
    "# with open(input_file,'r') as before:\n",
    "#     with open(output_file,'w') as after:\n",
    "#         with open(read_file,'r') as tsv:\n",
    "#             for line in tqdm_notebook(tsv, total=input_length):\n",
    "#                 data = line.strip().split('\\t')\n",
    "#                 patent_id = data[1]\n",
    "#                 inventor_name = ' '.join([data[4].replace(' ',''), data[5]])\n",
    "#                 addToDict(patent_id, inventor_name, dictionary)\n",
    "#             pprint(len(dictionary.keys()))\n",
    "#             count = 0\n",
    "#             for line in before:\n",
    "#                 data = line.strip().split('\\t')\n",
    "#                 newline = addDictToLine(line, dictionary)\n",
    "#                 write_to_tsv(newline, after)    \n",
    "#                 count += 1\n",
    "                \n",
    "# print(count)"
   ]
  },
  {
   "cell_type": "code",
   "execution_count": 42,
   "metadata": {},
   "outputs": [
    {
     "data": {
      "application/vnd.jupyter.widget-view+json": {
       "model_id": "96d1d47ee5734074a900f665fe7e9120",
       "version_major": 2,
       "version_minor": 0
      },
      "text/plain": [
       "HBox(children=(IntProgress(value=0, max=94726691), HTML(value=u'')))"
      ]
     },
     "metadata": {},
     "output_type": "display_data"
    },
    {
     "name": "stdout",
     "output_type": "stream",
     "text": [
      "6316846\n",
      "6025637\n"
     ]
    }
   ],
   "source": [
    "input_file = \"patents_i.tsv\"\n",
    "output_file = \"patents_c.tsv\"\n",
    "read_file = \"uspatentcitation.tsv\"\n",
    "\n",
    "init_file(output_file)\n",
    "\n",
    "input_length = 94726691\n",
    "\n",
    "dictionary = dict()\n",
    "with open(input_file,'r') as before:\n",
    "    with open(output_file,'w') as after:\n",
    "        with open(read_file,'r') as tsv:\n",
    "            for line in tqdm_notebook(tsv, total=input_length):\n",
    "                data = line.strip().split('\\t')\n",
    "                patent_id = data[1]\n",
    "                citation_id = data[2]\n",
    "                addToDict(patent_id, citation_id, dictionary)\n",
    "            pprint(len(dictionary.keys()))\n",
    "            count = 0\n",
    "            for line in before:\n",
    "                data = line.strip().split('\\t')\n",
    "                newline = addDictToLine(line, dictionary)\n",
    "                write_to_tsv(newline, after)    \n",
    "                count += 1\n",
    "                \n",
    "print(count)"
   ]
  },
  {
   "cell_type": "code",
   "execution_count": 43,
   "metadata": {
    "scrolled": false
   },
   "outputs": [
    {
     "name": "stdout",
     "output_type": "stream",
     "text": [
      "3930271\tGolf glove\t1976-01-06\t A golf glove is disclosed having an extra finger pocket between the index and middle finger pockets for securing one finger of one hand of a golf player between the fingers of the player's other hand. \tHi-Kahng Trading Co.\tNone\t2782422,2379430\n",
      "\n",
      "3930272\tCrib leg lock\t1976-01-06\t A lock for a height-adjustable crib or playpen requires two distinct manual operations in order to release the lock on each crib leg. Each lock includes a rigid metal bracket which engages around the extensible part of the leg and is pivotally connected to a crib corner post. The bracket has a nose which projects into one of a series of openings in the extensible part of the leg then the bracket is swung against the leg part to prevent movement of the leg part relative to the post. The upper edge of the bracket is slotted to receive a latch pivotally connected to the corner post just above the bracket. The latch drops into the slot when the nose is engaged in one of the openings so that the bracket cannot be moved. \tHedstrom Co.\tNone\t1609246,2574559,2560109,933921,1667080,2711301,2545289,2734200,1549144,3670344,1834468\n",
      "\n",
      "3930273\tBed safety side rail arrangement\t1976-01-06\t A bed safety side rail arrangement which includes two opposite articulated side rail assemblies selectively pivotally movable from an upper safety position to a lowered position, as for patient transfer and handling and/or bedmaking tasks. The opposite side rail assemblies are readily removably secured to opposite sides of a bed, and desired structural rigidity is provided through the medium of tubular cross members or cross member assemblies which engage the side rail assemblies at their respective pivot connections. \tAffiliated Hospital Products, Inc.\tRobertC. Stern\t3585659,3125769,3233930,3419922,3093839,2817855,1240201,3175453\n",
      "\n",
      "3930274\tAssembly for use in recreational activities\t1976-01-06\t The assembly includes a longitudinal axis and opposite end surfaces transverse to the longitudinal axis. The container has a structure effective to receive both liquids and gas mediums therein and has valves for introducing and exhausting both liquid and gas mediums. An elongated frame structure has a plurality of parallel linear support members wherein each support member is laterally spaced with respect to any other lateral support member, and a separate end frame portion connected at each end of the support members to form an open structural configuration for receiving the collapsible container. The elongated container is fastened to the frame structure with the longitudinal axis thereof disposed substantially parallel to the linear support members and each of the end surfaces of the container being disposed adjacent an end frame portion to support the container within the frame structure during use. The container is attached to the frame structure with one of the linear support members extending longitudinally along one side of the container with the opposing side of the container being free of a support member. The assembly may be used as a pontoon when the container is inflated with a gas fluid medium and is employable in other uses such as a fresh water reservoir, a ballast, a sea anchor, a pitch and roll stabilizer and the like when the container is not inflated or holdls a liquid fluid medium. \t\tHaroldA. Syfritt\t2546396,3064370,3601076\n",
      "\n",
      "3930275\tMethod of fabricating a slipper\t1976-01-06\t A novel slipper and its method of fabrication is described. The slipper comprises a substantially flat sole member with die-cut bounding edges onto which is heat-sealed an overlying arc-shaped vamp. The novel method is characterized by pre-tacking vamps at predetermined locations to a sole web, and substantially simultaneously heat-sealing each vamp to a sole and die-cutting the bonded sole and vamp from the sole web. \t\tRichard Bailin\t2971278,3311937,914377\n",
      "\n",
      "3930276\tWheel spinning and vehicle conveying apparatus for automatic wheel washers\t1976-01-06\t An automobile conveyor for use in conjunction with a wheel spinning device for an automatic wheel washer including an endless chain having a plurality of selectively engageable dogs pivotally secured thereto. The dogs normally travel in a position to urge an auto through the washer whereat the outboard end is in close association with the chain and beneath the automobile first supporting surface. Operating means are included whereby when an automobile is in position at least one of the dogs will be automatically moved to a position where the dog extends above the automobile supporting surface, contacts a wheel, and urges the car through the washer apparatus. At the wheel spinning and washing station the chain is forced downwardly to a position whereat it passes beneath the mechanism necessary to perform the wheel spinning operation while still retaining the outboard end of the dog above the automobile supporting surface. The continual contact by the dog assures that the automobile moves through the washer apparatus in a continuous motion. \tHaverberg Auto Laundry Equipment Co.\tRussellA. Van Brakel\t3554132,3037223\n",
      "\n",
      "3930277\tMobile floor sweeper\t1976-01-06\t A Mobile Floor Sweeper including a rotatable cylindrical brush mounted on a mobile chassis, lever means for raising and lowering said brush relative to the chassis with plate means pivotally mounted on the chassis adjacent the brush together with lever means connecting the plate means with the means for raising and lowering the brush whereby the plate means follows the brush as it is raised and lowered and means for adjustably positioning one end of the brush relative to the chassis. \tAdvance Machine Company\tRichardF. Wulff\t1537003,2913744,1042860\n",
      "\n",
      "3930278\tPaintbrush and guard attachment for edging\t1976-01-06\t A device for removable attachment to a paintbrush to assist in cutting-in one flat surface to another is disclosed. It is formed of flat metal sheet cut to a configuration having a central portion with a foot depending from one end thereof and a pair of bendable arms extending laterally therefrom. The arms can be bent to a plane normal to the plane of the central portion to engage the opposite sides of the handle of a paintbrush, and the foot portion acts as a guide and shield against unintentional smearing. \t\tRichardA. Nasca\t922074,3401418,3824647,2820237,2116406,1915893,2807041,2078193\n",
      "\n",
      "3930279\tRubber windshield wiper blades having increased flexibility at clamping points\t1976-01-06\t A rubber windshield wiper blade is clamped to rocker arms at several points along its length. The sides of the blade are formed with cavities at locations corresponding to the locations of the clamps so as to permit flexure of the blade without hindrance from the clamps. \t\tDario Arman\t2140453,3084372,3097389\n",
      "\n",
      "3930280\tBottle insert for product container\t1976-01-06\t Leaks are precluded in product containers with the bottle insert by structuring a rim thereon for establishing an inclined sealing interface. A diaphragm is structured within the bottle insert to provide either a cylindrical or a noncylindrical wipe over the particular type of applicator tip selected for use in the product container. Furthermore, provisions are incorporated within the bottle insert to block passage through the wiping diaphragm of misaligned comb type applicator tips and these provisions are made self-aligning for such tips with minor structural modification. \tThe Bridgeport Metal Goods Manufacturing Company\tMartinM. Vasas\t3084374,2627619,3372424,3763870\n",
      "\n"
     ]
    }
   ],
   "source": [
    "check_file(\"patents_c.tsv\")\n",
    "\n",
    "# find why top ones don't have inventor and claim"
   ]
  },
  {
   "cell_type": "code",
   "execution_count": 17,
   "metadata": {},
   "outputs": [
    {
     "name": "stdout",
     "output_type": "stream",
     "text": [
      "['disc-saw', '4.0.ltoreq.A.ltoreq.7.5.', 'immersion/dipping', 'Cephalopod', 'Variable-bandwidth', 'task]During', '94%-97%', 'managerAutomated', '(24,25,28,29)', 'arylaklyl,', 'verificationAuthenticating', '2,6-dimethoxyhydroquinone-3-mercaptoacetic', '2-chromone-carbonyl', '390.degree.-570.degree.', 'pancreatin,', 'Sb.sub.1-X', 'plasma-separating', '(ECMDF)', 'grandstandsThe', 'C-stud,', 'solution.R1(O)nX1R2(I)(In', \"(SOFC's),\", 'engrafted.', 'metalhalide', 'deviceInflatable', 'engrafted,', 'dialogMethods', 'scan-and-pass', 'obedient', 'retainingAn', 'alkylglutarimides', 'Ia:wherein:', '2,6-diaminosubstituted', 'slow-on', 'ammonia-forming', 'terrazzo', '26R58.', 'annunciatorsA', 'DIPHENYLAMINO,', '8.05%', 'gear(s),', 'stillage\"\",', '8.052', 'finely-disperse,', '2-fatty', 'hydroxyphenylpyridazinones', 'Scmp-ref', 'scissoring', 'defectively-sealed', 'holdup,', 'Ia:wherein,', '5.mu.-10.mu..', 'thermal-crosslinking', 'MYO1.', 'protectionProtection', 'I101', 'I100', 'I102', 'I104', '(-alanyl-L-histidine,', 'R=d1/d2,', 'N>J).', 'dialkanolammonium', 'silicone-impregnated', 'phosphorotriamidothioate', 'times/sec).', 'I10.', 'on-push', '(circles)', 'systemUnobstructed,', 'Poly(epoxide)', '(circles,', '(DSOL)', 'thereofIrradiation', '(S,R)-', 'holdup.', '(11-13,', 'Comp/Vin,', '(58B)', '(KDR,', 'C-studs', 'low-current-drain', 'midgesThe', 'fiber-reinforcing', 'sweat-resistant', 'Hexachlorodisilane', 'Electonic', 'module)/Smartcard.', 'materiel.', 'materiel,', '51d),', '(11-13;', '(non-Markov)', 'ketiminesThe', 'E-CID', 'anti-biocontaminant', '(11-13)', 'source`,', ',adapted']\n"
     ]
    }
   ],
   "source": [
    "from nltk.corpus import stopwords\n",
    "import numpy as np\n",
    "import lda\n",
    "\n",
    "input_file = \"patents_i.tsv\"\n",
    "output_file = \"patents_k.tsv\"\n",
    "input_length = 6025637\n",
    "\n",
    "def convertUTF8toASCII(text):\n",
    "    return text.decode(\"utf-8\").encode(\"ascii\",\"ignore\")\n",
    "\n",
    "init_file(output_file)\n",
    "\n",
    "stop = stopwords.words(\"english\")\n",
    "\n",
    "# def build_vocab():\n",
    "#     vocab = set()\n",
    "#     count = 0\n",
    "#     with open(input_file, 'r') as tsv:\n",
    "#         for line in tqdm_notebook(tsv, total=input_length):\n",
    "#             data = line.strip().split('\\t')\n",
    "#             title = data[1]\n",
    "#             abstract = data[3]\n",
    "#             text = title + abstract\n",
    "#             text = convertUTF8toASCII(text)\n",
    "#             vocab.update(set(text.split()))\n",
    "#     return vocab\n",
    "            \n",
    "# vocab = build_vocab()\n",
    "# vi = list(vocab)\n",
    "\n",
    "print(sub[:-100:-1])\n",
    "\n",
    "with open(input_file,'r') as before:\n",
    "    with open(output_file,'w') as after:\n",
    "        for line in tqdm_notebook(before, total=input_length):\n",
    "            data = line.strip().split('\\t')\n",
    "            title = data[1]\n",
    "            abstract = data[3]\n",
    "            text = title + abstract\n",
    "            text = convertUTF8toASCII(text)\n",
    "            \n",
    "            row = np.zeros((1, len(vi)), dtype=np.int)\n",
    "            \n",
    "            for word in text.split():\n",
    "                if word not in stop:\n",
    "                    row[0][vi.index(word)] += 1\n",
    "                    \n",
    "            mat = row\n",
    "            model = lda.LDA(n_topics=20, n_iter=1500, random_state=1)\n",
    "            model.fit(mat)  # model.fit_transform(X) is also available\n",
    "            topic_word = model.topic_word_  # model.components_ also works\n",
    "            n_top_words = 100\n",
    "            topics = []\n",
    "            for i, topic_dist in enumerate(topic_word):\n",
    "                sub = []\n",
    "                for elem in np.argsort(topic_dist).astype(int):\n",
    "                    sub.append(vi[elem])\n",
    "                topics.append(sub[:-n_top_words:-1])\n",
    "            topics = ','.join(topics) \n",
    "            print(topics)\n",
    "            \n",
    "            newline = addTextToLine(topics, line)\n",
    "            write_to_tsv(newline, after)   \n",
    "                \n",
    "print(count)\n",
    "\n",
    "#1. Remove punctuations. Separate by punctuations.\n",
    "#2. Lowercase every word.\n",
    "#3. 55 keywords for each patent\n",
    "#Finish this tonight."
   ]
  },
  {
   "cell_type": "markdown",
   "metadata": {},
   "source": [
    "## Everything below have not been used in final implementation due to poor file_size-to-UX_enhancement ratio."
   ]
  },
  {
   "cell_type": "code",
   "execution_count": null,
   "metadata": {},
   "outputs": [],
   "source": [
    "input_file = \"patents_c.tsv\"\n",
    "output_file = \"patents_cl.tsv\"\n",
    "read_file = \"claim.tsv\"\n",
    "input_length = 6025637\n",
    "\n",
    "init_file(output_file)\n",
    "\n",
    "with open(input_file,'r') as before:\n",
    "    with open(output_file,'w') as after:\n",
    "        count = 0\n",
    "        for patent_line in tqdm_notebook(before, total=input_length):\n",
    "            patent_data = patent_line.strip().split('\\t')\n",
    "            patent_id = patent_data[0]\n",
    "            claims = []\n",
    "            with open(read_file,'r') as tsv:\n",
    "                for claim_line in tsv:                    \n",
    "                    if patent_id in claim_line:\n",
    "                        claim_data = claim_line.strip().split('\\t')\n",
    "                        if patent_id == claim_data[1]:\n",
    "                            claims.append(claim_data[2].replace('\\t',''))\n",
    "            new_line = addTextToLine('\\n'.join(claims), patent_line)\n",
    "            write_to_tsv(new_line, after)\n",
    "            count += 1\n",
    "            \n",
    "print(count)"
   ]
  },
  {
   "cell_type": "code",
   "execution_count": null,
   "metadata": {},
   "outputs": [
    {
     "data": {
      "application/vnd.jupyter.widget-view+json": {
       "model_id": "995b3d656672461c9631eef506a4abd3",
       "version_major": 2,
       "version_minor": 0
      },
      "text/plain": [
       "HBox(children=(IntProgress(value=0, max=6025637), HTML(value='')))"
      ]
     },
     "metadata": {},
     "output_type": "display_data"
    }
   ],
   "source": [
    "input_file = \"patents_cl.tsv\"\n",
    "output_file = \"patents_s.tsv\"\n",
    "read_file = \"brf_sum_text.tsv\"\n",
    "input_length = 6025637\n",
    "\n",
    "init_file(output_file)\n",
    "\n",
    "with open(input_file,'r') as before:\n",
    "    with open(output_file,'w') as after:\n",
    "        count = 0\n",
    "        for patent_line in tqdm_notebook(before, total=input_length):\n",
    "            patent_data = patent_line.strip().split('\\t')\n",
    "            patent_id = patent_data[0]\n",
    "            with open(read_file,'r') as tsv:\n",
    "                for sum_line in tsv:        \n",
    "                    if patent_id in sum_line:\n",
    "                        sum_data = sum_line.strip().split('\\t')\n",
    "                        if patent_id == sum_data[1]:\n",
    "                            summary = sum_data[2]\n",
    "                            break\n",
    "            new_line = addTextToLine(summary, patent_line)\n",
    "            write_to_tsv(new_line, after)\n",
    "            count += 1\n",
    "\n",
    "print(count)"
   ]
  },
  {
   "cell_type": "code",
   "execution_count": null,
   "metadata": {},
   "outputs": [],
   "source": []
  }
 ],
 "metadata": {
  "kernelspec": {
   "display_name": "Python 2",
   "language": "python",
   "name": "python2"
  },
  "language_info": {
   "codemirror_mode": {
    "name": "ipython",
    "version": 2
   },
   "file_extension": ".py",
   "mimetype": "text/x-python",
   "name": "python",
   "nbconvert_exporter": "python",
   "pygments_lexer": "ipython2",
   "version": "2.7.15"
  }
 },
 "nbformat": 4,
 "nbformat_minor": 2
}
