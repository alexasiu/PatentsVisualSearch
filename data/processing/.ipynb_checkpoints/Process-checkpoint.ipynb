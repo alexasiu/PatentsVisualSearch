{
 "cells": [
  {
   "cell_type": "markdown",
   "metadata": {},
   "source": [
    "# USPTO Patent Data Processing\n",
    "\n",
    "[patent_id, title, date, abstract, kind, withdrawn, assignee_id, inventor_id, citations, claims]\n",
    "\n",
    "https://docs.google.com/document/d/1xpC1TKHYXSZRjBNxHsy1LEjc3VYJYVsh4EQdVqIxKps/edit"
   ]
  },
  {
   "cell_type": "code",
   "execution_count": 3,
   "metadata": {},
   "outputs": [],
   "source": [
    "import os\n",
    "import time\n",
    "from pprint import pprint\n",
    "from tqdm import tqdm_notebook"
   ]
  },
  {
   "cell_type": "code",
   "execution_count": 4,
   "metadata": {},
   "outputs": [],
   "source": [
    "def write_to_tsv(extracted, target):\n",
    "    target.write(extracted)\n",
    "    target.write('\\n')\n",
    "    \n",
    "def init_file(filename):\n",
    "    if os.path.exists(filename):\n",
    "        os.remove(filename)\n",
    "    open(filename, 'a').close()\n",
    "\n",
    "def check_file(filename):\n",
    "    with open(filename,'r') as tsv:\n",
    "        count = 0\n",
    "        for line in tsv:\n",
    "            count += 1\n",
    "            if count == 11: break\n",
    "            data = line.strip().split('\\t')\n",
    "            print(line)\n",
    "            \n",
    "def addDictToLine(line, dictionary):\n",
    "    return line.replace(\"\\n\",\"\") + '\\t' + str(dictionary.get(data[0],\"\")).replace(\"\\n\",\"\")"
   ]
  },
  {
   "cell_type": "code",
   "execution_count": 3,
   "metadata": {},
   "outputs": [
    {
     "name": "stdout",
     "output_type": "stream",
     "text": [
      "6025637\n"
     ]
    }
   ],
   "source": [
    "def extract_patent_tsv(data):\n",
    "    patent_id = data[0]\n",
    "    date = data[4]\n",
    "    abstract = data[5]\n",
    "    title = data[6]\n",
    "    kind = data[7]\n",
    "    withdrawn = data[10]\n",
    "    \n",
    "    extracted = '\\t'.join([patent_id, title, date, abstract, kind, withdrawn])\n",
    "    return extracted\n",
    "\n",
    "init_file(\"patents.tsv\")\n",
    "\n",
    "with open(\"patents.tsv\",'w') as after:\n",
    "    with open(\"patent.tsv\",'r') as tsv:\n",
    "        count = 0\n",
    "        for line in tsv:\n",
    "            data = line.strip().split('\\t')\n",
    "            patent_type = data[1]\n",
    "            if patent_type == 'utility':\n",
    "                extracted = extract_patent_tsv(data)\n",
    "                write_to_tsv(extracted, after)\n",
    "                count += 1\n",
    "                \n",
    "print(count)"
   ]
  },
  {
   "cell_type": "code",
   "execution_count": 11,
   "metadata": {
    "scrolled": true
   },
   "outputs": [
    {
     "name": "stdout",
     "output_type": "stream",
     "text": [
      "6025637\n"
     ]
    }
   ],
   "source": [
    "input_file = \"patents.tsv\"\n",
    "output_file = \"patents_a.tsv\"\n",
    "read_file = \"rawassignee.tsv\"\n",
    "\n",
    "init_file(output_file)\n",
    "\n",
    "dictionary = dict()\n",
    "with open(input_file,'r') as before:\n",
    "    with open(output_file,'w') as after:\n",
    "        with open(read_file,'r') as tsv:\n",
    "            for line in tsv:\n",
    "                data = line.strip().split('\\t')\n",
    "                patent_id = data[1]\n",
    "                assignee_first_name = data[5]\n",
    "                assignee_last_name = data[6]\n",
    "                assignee_person = data[5] + \" \" + data[6]\n",
    "                assignee_organization = data[7]\n",
    "                if len(assignee_person) > len(assignee_organization):\n",
    "                    dictionary[patent_id] = assignee_person\n",
    "                else:\n",
    "                    dictionary[patent_id] = assignee_organization\n",
    "            count = 0\n",
    "            for line in before:\n",
    "                data = line.strip().split('\\t')\n",
    "                newline = addDictToLine(line, dictionary)\n",
    "                write_to_tsv(newline, after)    \n",
    "                count += 1\n",
    "print(count)"
   ]
  },
  {
   "cell_type": "code",
   "execution_count": 12,
   "metadata": {},
   "outputs": [
    {
     "name": "stdout",
     "output_type": "stream",
     "text": [
      "6646869\n",
      "6025637\n"
     ]
    }
   ],
   "source": [
    "input_file = \"patents_a.tsv\"\n",
    "output_file = \"patents_i.tsv\"\n",
    "read_file = \"rawinventor.tsv\"\n",
    "\n",
    "init_file(output_file)\n",
    "\n",
    "dictionary = dict()\n",
    "with open(input_file,'r') as before:\n",
    "    with open(output_file,'w') as after:\n",
    "        with open(read_file,'r') as tsv:\n",
    "            for line in tsv:\n",
    "                data = line.strip().split('\\t')\n",
    "                patent_id = data[1]\n",
    "                inventor_name = data[4] + \" \" + data[5]\n",
    "                dict_set = dictionary.get(data[0], set())\n",
    "                dictionary[patent_id] = dict_set.add(inventor_name)\n",
    "            pprint(len(dictionary.keys()))\n",
    "            count = 0\n",
    "            for line in before:\n",
    "                data = line.strip().split('\\t')\n",
    "                newline = addDictToLine(line, dictionary)\n",
    "                write_to_tsv(newline, after)    \n",
    "                count += 1\n",
    "                \n",
    "print(count)"
   ]
  },
  {
   "cell_type": "code",
   "execution_count": 14,
   "metadata": {},
   "outputs": [
    {
     "name": "stdout",
     "output_type": "stream",
     "text": [
      "6316846\n",
      "6025637\n"
     ]
    }
   ],
   "source": [
    "input_file = \"patents_i.tsv\"\n",
    "output_file = \"patents_c.tsv\"\n",
    "read_file = \"uspatentcitation.tsv\"\n",
    "\n",
    "init_file(output_file)\n",
    "\n",
    "dictionary = dict()\n",
    "with open(input_file,'r') as before:\n",
    "    with open(output_file,'w') as after:\n",
    "        with open(read_file,'r') as tsv:\n",
    "            for line in tsv:\n",
    "                data = line.strip().split('\\t')\n",
    "                patent_id = data[1]\n",
    "                citation_id = data[2]\n",
    "                dict_set = dictionary.get(data[0], set())\n",
    "                dictionary[patent_id] = dict_set.add(citation_id)\n",
    "            pprint(len(dictionary.keys()))\n",
    "            count = 0\n",
    "            for line in before:\n",
    "                data = line.strip().split('\\t')\n",
    "                newline = addDictToLine(line, dictionary)\n",
    "                write_to_tsv(newline, after)    \n",
    "                count += 1\n",
    "                \n",
    "print(count)"
   ]
  },
  {
   "cell_type": "code",
   "execution_count": 30,
   "metadata": {},
   "outputs": [
    {
     "name": "stdout",
     "output_type": "stream",
     "text": [
      "3930271\tGolf glove\t1976-01-06\t A golf glove is disclosed having an extra finger pocket between the index and middle finger pockets for securing one finger of one hand of a golf player between the fingers of the player's other hand. \tA\t0\tHi-Kahng Trading Co.\t\n",
      "\n",
      "3930272\tCrib leg lock\t1976-01-06\t A lock for a height-adjustable crib or playpen requires two distinct manual operations in order to release the lock on each crib leg. Each lock includes a rigid metal bracket which engages around the extensible part of the leg and is pivotally connected to a crib corner post. The bracket has a nose which projects into one of a series of openings in the extensible part of the leg then the bracket is swung against the leg part to prevent movement of the leg part relative to the post. The upper edge of the bracket is slotted to receive a latch pivotally connected to the corner post just above the bracket. The latch drops into the slot when the nose is engaged in one of the openings so that the bracket cannot be moved. \tA\t0\tHedstrom Co.\t\n",
      "\n",
      "3930273\tBed safety side rail arrangement\t1976-01-06\t A bed safety side rail arrangement which includes two opposite articulated side rail assemblies selectively pivotally movable from an upper safety position to a lowered position, as for patient transfer and handling and/or bedmaking tasks. The opposite side rail assemblies are readily removably secured to opposite sides of a bed, and desired structural rigidity is provided through the medium of tubular cross members or cross member assemblies which engage the side rail assemblies at their respective pivot connections. \tA\t0\tAffiliated Hospital Products, Inc.\tNone\n",
      "\n",
      "3930274\tAssembly for use in recreational activities\t1976-01-06\t The assembly includes a longitudinal axis and opposite end surfaces transverse to the longitudinal axis. The container has a structure effective to receive both liquids and gas mediums therein and has valves for introducing and exhausting both liquid and gas mediums. An elongated frame structure has a plurality of parallel linear support members wherein each support member is laterally spaced with respect to any other lateral support member, and a separate end frame portion connected at each end of the support members to form an open structural configuration for receiving the collapsible container. The elongated container is fastened to the frame structure with the longitudinal axis thereof disposed substantially parallel to the linear support members and each of the end surfaces of the container being disposed adjacent an end frame portion to support the container within the frame structure during use. The container is attached to the frame structure with one of the linear support members extending longitudinally along one side of the container with the opposing side of the container being free of a support member. The assembly may be used as a pontoon when the container is inflated with a gas fluid medium and is employable in other uses such as a fresh water reservoir, a ballast, a sea anchor, a pitch and roll stabilizer and the like when the container is not inflated or holdls a liquid fluid medium. \tA\t0\t\tNone\n",
      "\n",
      "3930275\tMethod of fabricating a slipper\t1976-01-06\t A novel slipper and its method of fabrication is described. The slipper comprises a substantially flat sole member with die-cut bounding edges onto which is heat-sealed an overlying arc-shaped vamp. The novel method is characterized by pre-tacking vamps at predetermined locations to a sole web, and substantially simultaneously heat-sealing each vamp to a sole and die-cutting the bonded sole and vamp from the sole web. \tA\t0\t\tNone\n",
      "\n",
      "3930276\tWheel spinning and vehicle conveying apparatus for automatic wheel washers\t1976-01-06\t An automobile conveyor for use in conjunction with a wheel spinning device for an automatic wheel washer including an endless chain having a plurality of selectively engageable dogs pivotally secured thereto. The dogs normally travel in a position to urge an auto through the washer whereat the outboard end is in close association with the chain and beneath the automobile first supporting surface. Operating means are included whereby when an automobile is in position at least one of the dogs will be automatically moved to a position where the dog extends above the automobile supporting surface, contacts a wheel, and urges the car through the washer apparatus. At the wheel spinning and washing station the chain is forced downwardly to a position whereat it passes beneath the mechanism necessary to perform the wheel spinning operation while still retaining the outboard end of the dog above the automobile supporting surface. The continual contact by the dog assures that the automobile moves through the washer apparatus in a continuous motion. \tA\t0\tHaverberg Auto Laundry Equipment Co.\tNone\n",
      "\n",
      "3930277\tMobile floor sweeper\t1976-01-06\t A Mobile Floor Sweeper including a rotatable cylindrical brush mounted on a mobile chassis, lever means for raising and lowering said brush relative to the chassis with plate means pivotally mounted on the chassis adjacent the brush together with lever means connecting the plate means with the means for raising and lowering the brush whereby the plate means follows the brush as it is raised and lowered and means for adjustably positioning one end of the brush relative to the chassis. \tA\t0\tAdvance Machine Company\tNone\n",
      "\n",
      "3930278\tPaintbrush and guard attachment for edging\t1976-01-06\t A device for removable attachment to a paintbrush to assist in cutting-in one flat surface to another is disclosed. It is formed of flat metal sheet cut to a configuration having a central portion with a foot depending from one end thereof and a pair of bendable arms extending laterally therefrom. The arms can be bent to a plane normal to the plane of the central portion to engage the opposite sides of the handle of a paintbrush, and the foot portion acts as a guide and shield against unintentional smearing. \tA\t0\t\tNone\n",
      "\n",
      "3930279\tRubber windshield wiper blades having increased flexibility at clamping points\t1976-01-06\t A rubber windshield wiper blade is clamped to rocker arms at several points along its length. The sides of the blade are formed with cavities at locations corresponding to the locations of the clamps so as to permit flexure of the blade without hindrance from the clamps. \tA\t0\t\tNone\n",
      "\n",
      "3930280\tBottle insert for product container\t1976-01-06\t Leaks are precluded in product containers with the bottle insert by structuring a rim thereon for establishing an inclined sealing interface. A diaphragm is structured within the bottle insert to provide either a cylindrical or a noncylindrical wipe over the particular type of applicator tip selected for use in the product container. Furthermore, provisions are incorporated within the bottle insert to block passage through the wiping diaphragm of misaligned comb type applicator tips and these provisions are made self-aligning for such tips with minor structural modification. \tA\t0\tThe Bridgeport Metal Goods Manufacturing Company\tNone\n",
      "\n"
     ]
    }
   ],
   "source": [
    "check_file(\"patents_i.tsv\")\n",
    "\n",
    "# find why top ones don't have inventor and claim"
   ]
  },
  {
   "cell_type": "code",
   "execution_count": 19,
   "metadata": {},
   "outputs": [
    {
     "data": {
      "application/vnd.jupyter.widget-view+json": {
       "model_id": "b4b9c31cccb64bf99c0b537458ad3d18",
       "version_major": 2,
       "version_minor": 0
      },
      "text/plain": [
       "HBox(children=(IntProgress(value=0, max=6025637), HTML(value='')))"
      ]
     },
     "metadata": {},
     "output_type": "display_data"
    },
    {
     "name": "stdout",
     "output_type": "stream",
     "text": [
      "94162142\n",
      "['A golf glove in accordance with claim 1 wherein said other finger receptacle is attached along its periphery to said index finger receptacle, said middle finger receptacle and said back surface.', \"A golf glove adapted for use on one hand of a golf player comprising at least an index finger receptacle and further comprising a finger receptacle attached to the side of said index finger receptacle most nearly adjacent to the thumb and adapted to receive a finger of the golf player's other hand.\", 'A glove comprising an index finger receptacle, a middle finger receptacle, a back surface extending in the direction of the wrist, a finger restraining strap extending between said receptacles, and a finger restraining strap attached to said back surface adjacent said index finger receptacle and said middle finger receptacle and aligned in a direction substantially parallel to said finger restraining strap extending between said finger receptacles.', 'A golf glove comprising at least an index finger receptacle, a middle finger receptacle and a back surface extending from said receptacles in the direction of the wrist, and further comprising another finger receptacle disposed adjacent said index finger receptacle and said middle finger receptacle and overlapping a portion of said back section.']\n"
     ]
    },
    {
     "ename": "IndexError",
     "evalue": "list assignment index out of range",
     "output_type": "error",
     "traceback": [
      "\u001b[0;31m---------------------------------------------------------------------------\u001b[0m",
      "\u001b[0;31mIndexError\u001b[0m                                Traceback (most recent call last)",
      "\u001b[0;32m<ipython-input-19-7f1bfc0cdc29>\u001b[0m in \u001b[0;36m<module>\u001b[0;34m()\u001b[0m\n\u001b[1;32m     24\u001b[0m                 \u001b[0mprint\u001b[0m\u001b[0;34m(\u001b[0m\u001b[0mclaims\u001b[0m\u001b[0;34m)\u001b[0m\u001b[0;34m\u001b[0m\u001b[0m\n\u001b[1;32m     25\u001b[0m                 \u001b[0mnew_data\u001b[0m \u001b[0;34m=\u001b[0m \u001b[0;34m[\u001b[0m\u001b[0;34m]\u001b[0m \u001b[0;34m*\u001b[0m \u001b[0;34m(\u001b[0m\u001b[0mlen\u001b[0m\u001b[0;34m(\u001b[0m\u001b[0mpatent_data\u001b[0m\u001b[0;34m)\u001b[0m\u001b[0;34m+\u001b[0m\u001b[0;36m1\u001b[0m\u001b[0;34m)\u001b[0m\u001b[0;34m\u001b[0m\u001b[0m\n\u001b[0;32m---> 26\u001b[0;31m                 \u001b[0mnew_data\u001b[0m\u001b[0;34m[\u001b[0m\u001b[0mlen\u001b[0m\u001b[0;34m(\u001b[0m\u001b[0mnew_data\u001b[0m\u001b[0;34m)\u001b[0m\u001b[0;34m-\u001b[0m\u001b[0;36m1\u001b[0m\u001b[0;34m]\u001b[0m \u001b[0;34m=\u001b[0m \u001b[0;34m'\\n'\u001b[0m\u001b[0;34m.\u001b[0m\u001b[0mjoin\u001b[0m\u001b[0;34m(\u001b[0m\u001b[0mclaims\u001b[0m\u001b[0;34m)\u001b[0m\u001b[0;34m\u001b[0m\u001b[0m\n\u001b[0m\u001b[1;32m     27\u001b[0m                 \u001b[0mprint\u001b[0m\u001b[0;34m(\u001b[0m\u001b[0mnew_data\u001b[0m\u001b[0;34m)\u001b[0m\u001b[0;34m\u001b[0m\u001b[0m\n\u001b[1;32m     28\u001b[0m                 \u001b[0mnew_line\u001b[0m \u001b[0;34m=\u001b[0m \u001b[0;34m'\\t'\u001b[0m\u001b[0;34m.\u001b[0m\u001b[0mjoin\u001b[0m\u001b[0;34m(\u001b[0m\u001b[0mnew_data\u001b[0m\u001b[0;34m)\u001b[0m \u001b[0;34m+\u001b[0m \u001b[0;34m'\\n'\u001b[0m\u001b[0;34m\u001b[0m\u001b[0m\n",
      "\u001b[0;31mIndexError\u001b[0m: list assignment index out of range"
     ]
    }
   ],
   "source": [
    "input_file = \"patents_c.tsv\"\n",
    "output_file = \"patents_cl.tsv\"\n",
    "read_file = \"claim.tsv\"\n",
    "input_length = 6025637\n",
    "\n",
    "init_file(output_file)\n",
    "\n",
    "with open(input_file,'r') as before:\n",
    "    with open(output_file,'w') as after:\n",
    "        with open(read_file,'r') as tsv:\n",
    "            count = 0\n",
    "            for patent_line in tqdm_notebook(before, total=input_length):\n",
    "                patent_data = patent_line.strip().split('\\t')\n",
    "                patent_id = patent_data[0]\n",
    "                claims = []\n",
    "                ccount = 0\n",
    "                for claim_line in tsv:                    \n",
    "                    ccount += 1\n",
    "                    if patent_id in claim_line:\n",
    "                        claim_data = claim_line.strip().split('\\t')\n",
    "                        if patent_id == claim_data[1]:\n",
    "                            claims.append(claim_data[2])\n",
    "                print(ccount)\n",
    "                print(claims)\n",
    "                \n",
    "                \n",
    "                new_data = [] * (len(patent_data)+1)\n",
    "                new_data[len(new_data)-1] = '\\n'.join(claims)\n",
    "                print(new_data)\n",
    "                new_line = '\\t'.join(new_data) + '\\n'\n",
    "                write_to_tsv(newline, after)\n",
    "                count += 1\n",
    "\n",
    "print(count)"
   ]
  },
  {
   "cell_type": "code",
   "execution_count": 20,
   "metadata": {},
   "outputs": [
    {
     "data": {
      "application/vnd.jupyter.widget-view+json": {
       "model_id": "019cefce0bdb43eb864a877dd0fdcbbd",
       "version_major": 2,
       "version_minor": 0
      },
      "text/plain": [
       "HBox(children=(IntProgress(value=0, max=6025637), HTML(value='')))"
      ]
     },
     "metadata": {},
     "output_type": "display_data"
    },
    {
     "name": "stdout",
     "output_type": "stream",
     "text": [
      "0\n"
     ]
    }
   ],
   "source": [
    "input_file = \"patents_cl.tsv\"\n",
    "output_file = \"patents_s.tsv\"\n",
    "read_file = \"brf_sum_text.tsv\"\n",
    "input_length = 6025637\n",
    "\n",
    "init_file(output_file)\n",
    "\n",
    "with open(input_file,'r') as before:\n",
    "    with open(output_file,'w') as after:\n",
    "        with open(read_file,'r') as tsv:\n",
    "            count = 0\n",
    "            for patent_line in tqdm_notebook(before, total=input_length):\n",
    "                patent_data = patent_line.strip().split('\\t')\n",
    "                patent_id = patent_data[0]\n",
    "                for sum_line in tsv:                    \n",
    "                    if patent_id in sum_line:\n",
    "                        sum_data = sum_line.strip().split('\\t')\n",
    "                        if patent_id == sum_data[1]:\n",
    "                            summary = sum_data[2]\n",
    "                new_line = addTextToLine(summary, patent_line)\n",
    "                write_to_tsv(newline, after)\n",
    "                count += 1\n",
    "\n",
    "print(count)"
   ]
  },
  {
   "cell_type": "code",
   "execution_count": null,
   "metadata": {},
   "outputs": [],
   "source": []
  }
 ],
 "metadata": {
  "kernelspec": {
   "display_name": "Python 3",
   "language": "python",
   "name": "python3"
  },
  "language_info": {
   "codemirror_mode": {
    "name": "ipython",
    "version": 3
   },
   "file_extension": ".py",
   "mimetype": "text/x-python",
   "name": "python",
   "nbconvert_exporter": "python",
   "pygments_lexer": "ipython3",
   "version": "3.6.6"
  }
 },
 "nbformat": 4,
 "nbformat_minor": 2
}
